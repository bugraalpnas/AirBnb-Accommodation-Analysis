{
 "cells": [
  {
   "cell_type": "markdown",
   "metadata": {},
   "source": [
    "I will use in this project Foursquare API data and \"AirBnb Istanbul\" dataset from kaggle.com."
   ]
  },
  {
   "cell_type": "code",
   "execution_count": 3,
   "metadata": {},
   "outputs": [],
   "source": [
    "import pandas as pd\n",
    "df = pd.read_csv(\"AirbnbIstanbul.csv\")"
   ]
  },
  {
   "cell_type": "code",
   "execution_count": 4,
   "metadata": {
    "scrolled": false
   },
   "outputs": [
    {
     "data": {
      "text/html": [
       "<div>\n",
       "<style scoped>\n",
       "    .dataframe tbody tr th:only-of-type {\n",
       "        vertical-align: middle;\n",
       "    }\n",
       "\n",
       "    .dataframe tbody tr th {\n",
       "        vertical-align: top;\n",
       "    }\n",
       "\n",
       "    .dataframe thead th {\n",
       "        text-align: right;\n",
       "    }\n",
       "</style>\n",
       "<table border=\"1\" class=\"dataframe\">\n",
       "  <thead>\n",
       "    <tr style=\"text-align: right;\">\n",
       "      <th></th>\n",
       "      <th>id</th>\n",
       "      <th>name</th>\n",
       "      <th>host_id</th>\n",
       "      <th>host_name</th>\n",
       "      <th>neighbourhood_group</th>\n",
       "      <th>neighbourhood</th>\n",
       "      <th>latitude</th>\n",
       "      <th>longitude</th>\n",
       "      <th>room_type</th>\n",
       "      <th>price</th>\n",
       "      <th>minimum_nights</th>\n",
       "      <th>number_of_reviews</th>\n",
       "      <th>last_review</th>\n",
       "      <th>reviews_per_month</th>\n",
       "      <th>calculated_host_listings_count</th>\n",
       "      <th>availability_365</th>\n",
       "    </tr>\n",
       "  </thead>\n",
       "  <tbody>\n",
       "    <tr>\n",
       "      <td>0</td>\n",
       "      <td>4826</td>\n",
       "      <td>The Place</td>\n",
       "      <td>6603</td>\n",
       "      <td>Kaan</td>\n",
       "      <td>NaN</td>\n",
       "      <td>Uskudar</td>\n",
       "      <td>41.05650</td>\n",
       "      <td>29.05367</td>\n",
       "      <td>Entire home/apt</td>\n",
       "      <td>554</td>\n",
       "      <td>1</td>\n",
       "      <td>1</td>\n",
       "      <td>2009-06-01</td>\n",
       "      <td>0.01</td>\n",
       "      <td>1</td>\n",
       "      <td>365</td>\n",
       "    </tr>\n",
       "    <tr>\n",
       "      <td>1</td>\n",
       "      <td>20815</td>\n",
       "      <td>The Bosphorus from The Comfy Hill</td>\n",
       "      <td>78838</td>\n",
       "      <td>Gülder</td>\n",
       "      <td>NaN</td>\n",
       "      <td>Besiktas</td>\n",
       "      <td>41.06984</td>\n",
       "      <td>29.04545</td>\n",
       "      <td>Entire home/apt</td>\n",
       "      <td>100</td>\n",
       "      <td>30</td>\n",
       "      <td>41</td>\n",
       "      <td>2018-11-07</td>\n",
       "      <td>0.38</td>\n",
       "      <td>2</td>\n",
       "      <td>49</td>\n",
       "    </tr>\n",
       "    <tr>\n",
       "      <td>2</td>\n",
       "      <td>25436</td>\n",
       "      <td>House for vacation rental furnutare</td>\n",
       "      <td>105823</td>\n",
       "      <td>Yesim</td>\n",
       "      <td>NaN</td>\n",
       "      <td>Besiktas</td>\n",
       "      <td>41.07731</td>\n",
       "      <td>29.03891</td>\n",
       "      <td>Entire home/apt</td>\n",
       "      <td>211</td>\n",
       "      <td>21</td>\n",
       "      <td>0</td>\n",
       "      <td>NaN</td>\n",
       "      <td>NaN</td>\n",
       "      <td>1</td>\n",
       "      <td>83</td>\n",
       "    </tr>\n",
       "    <tr>\n",
       "      <td>3</td>\n",
       "      <td>27271</td>\n",
       "      <td>LOVELY APT. IN PERFECT LOCATION</td>\n",
       "      <td>117026</td>\n",
       "      <td>Mutlu</td>\n",
       "      <td>NaN</td>\n",
       "      <td>Beyoglu</td>\n",
       "      <td>41.03220</td>\n",
       "      <td>28.98216</td>\n",
       "      <td>Entire home/apt</td>\n",
       "      <td>237</td>\n",
       "      <td>5</td>\n",
       "      <td>2</td>\n",
       "      <td>2018-05-04</td>\n",
       "      <td>0.04</td>\n",
       "      <td>1</td>\n",
       "      <td>228</td>\n",
       "    </tr>\n",
       "    <tr>\n",
       "      <td>4</td>\n",
       "      <td>28277</td>\n",
       "      <td>Duplex Apartment with Terrace</td>\n",
       "      <td>121607</td>\n",
       "      <td>Alen</td>\n",
       "      <td>NaN</td>\n",
       "      <td>Sisli</td>\n",
       "      <td>41.04471</td>\n",
       "      <td>28.98567</td>\n",
       "      <td>Entire home/apt</td>\n",
       "      <td>591</td>\n",
       "      <td>3</td>\n",
       "      <td>0</td>\n",
       "      <td>NaN</td>\n",
       "      <td>NaN</td>\n",
       "      <td>13</td>\n",
       "      <td>356</td>\n",
       "    </tr>\n",
       "  </tbody>\n",
       "</table>\n",
       "</div>"
      ],
      "text/plain": [
       "      id                                 name  host_id host_name  \\\n",
       "0   4826                            The Place     6603      Kaan   \n",
       "1  20815    The Bosphorus from The Comfy Hill    78838    Gülder   \n",
       "2  25436  House for vacation rental furnutare   105823     Yesim   \n",
       "3  27271      LOVELY APT. IN PERFECT LOCATION   117026     Mutlu   \n",
       "4  28277       Duplex Apartment with Terrace    121607      Alen   \n",
       "\n",
       "   neighbourhood_group neighbourhood  latitude  longitude        room_type  \\\n",
       "0                  NaN       Uskudar  41.05650   29.05367  Entire home/apt   \n",
       "1                  NaN      Besiktas  41.06984   29.04545  Entire home/apt   \n",
       "2                  NaN      Besiktas  41.07731   29.03891  Entire home/apt   \n",
       "3                  NaN       Beyoglu  41.03220   28.98216  Entire home/apt   \n",
       "4                  NaN         Sisli  41.04471   28.98567  Entire home/apt   \n",
       "\n",
       "   price  minimum_nights  number_of_reviews last_review  reviews_per_month  \\\n",
       "0    554               1                  1  2009-06-01               0.01   \n",
       "1    100              30                 41  2018-11-07               0.38   \n",
       "2    211              21                  0         NaN                NaN   \n",
       "3    237               5                  2  2018-05-04               0.04   \n",
       "4    591               3                  0         NaN                NaN   \n",
       "\n",
       "   calculated_host_listings_count  availability_365  \n",
       "0                               1               365  \n",
       "1                               2                49  \n",
       "2                               1                83  \n",
       "3                               1               228  \n",
       "4                              13               356  "
      ]
     },
     "execution_count": 4,
     "metadata": {},
     "output_type": "execute_result"
    }
   ],
   "source": [
    "df.head()"
   ]
  },
  {
   "cell_type": "code",
   "execution_count": 5,
   "metadata": {},
   "outputs": [
    {
     "data": {
      "text/plain": [
       "(16251, 16)"
      ]
     },
     "execution_count": 5,
     "metadata": {},
     "output_type": "execute_result"
    }
   ],
   "source": [
    "df.shape"
   ]
  },
  {
   "cell_type": "markdown",
   "metadata": {},
   "source": [
    "The AirbnbIstanbul dataset contain 16 columns.\n",
    "They are\n",
    "* id: Unique value for each house.\n",
    "* name: Names that: Names determined by the hosts\n",
    "* host id: Unique value for hosts\n",
    "* host_name: Hosts' name\n",
    "* neighbourhood_group: All of them NaN value. We will drop it.\n",
    "* neighbourhood: Neighborhoods where the house is located\n",
    "* latitude: Latitude value of house\n",
    "* longitude: Longitue value of house\n",
    "* room_type: Room types ( Private, entire home, shared)\n",
    "* price: Houses' price\n",
    "* minimum_nights: Minimum number of nights required for accommodation\n",
    "* number_of_reviews: Number of reviews of houses.\n",
    "* last_review: Date of last review\n",
    "* reviews_per_month: Average review number per month.\n",
    "* calculated_host_listings_count: It is a count of listings that specific host has\n",
    "* availability_365: Available days of year for house"
   ]
  },
  {
   "cell_type": "markdown",
   "metadata": {},
   "source": [
    "# How will I use this dataset and Foursquare?"
   ]
  },
  {
   "cell_type": "code",
   "execution_count": 18,
   "metadata": {},
   "outputs": [
    {
     "data": {
      "text/plain": [
       "array(['Uskudar', 'Besiktas', 'Beyoglu', 'Sisli', 'Sariyer', 'Beykoz',\n",
       "       'Atasehir', 'Fatih', 'Adalar', 'Kadikoy', 'Kagithane', 'Maltepe',\n",
       "       'Bakirkoy', 'Esenyurt', 'Basaksehir', 'Kartal', 'Gaziosmanpasa',\n",
       "       'Bahcelievler', 'Bagcilar', 'Buyukcekmece', 'Silivri',\n",
       "       'Beylikduzu', 'Umraniye', 'Sile', 'Cekmekoy', 'Sancaktepe',\n",
       "       'Tuzla', 'Pendik', 'Sultangazi', 'Eyup', 'Zeytinburnu',\n",
       "       'Kucukcekmece', 'Avcilar', 'Gungoren', 'Catalca', 'Bayrampasa',\n",
       "       'Esenler', 'Sultanbeyli', 'Arnavutkoy'], dtype=object)"
      ]
     },
     "execution_count": 18,
     "metadata": {},
     "output_type": "execute_result"
    }
   ],
   "source": [
    "nb = df[\"neighbourhood\"]\n",
    "nb.unique()"
   ]
  },
  {
   "cell_type": "code",
   "execution_count": 20,
   "metadata": {},
   "outputs": [
    {
     "data": {
      "text/plain": [
       "39"
      ]
     },
     "execution_count": 20,
     "metadata": {},
     "output_type": "execute_result"
    }
   ],
   "source": [
    "len(nb.unique())"
   ]
  },
  {
   "cell_type": "markdown",
   "metadata": {},
   "source": [
    "This dataset contains 39 neighborhood. They ara Istanbul's districts. And all beautiful than the other."
   ]
  },
  {
   "cell_type": "markdown",
   "metadata": {},
   "source": [
    "#### I will use venues' infos from Foursquare API.  Their categories, popularity and so on. \n",
    "* How many venues are there in which neighborhood?\n",
    "* Which categories of venues more?\n",
    "* Is there a relationship between venues and houses' preferability?\n",
    "* Is there a relationship between venues and houses' prices?\n",
    "* Which neighborhoods are so popular?\n",
    "* In which neighborhoods prices high or low?"
   ]
  }
 ],
 "metadata": {
  "kernelspec": {
   "display_name": "Python 3",
   "language": "python",
   "name": "python3"
  },
  "language_info": {
   "codemirror_mode": {
    "name": "ipython",
    "version": 3
   },
   "file_extension": ".py",
   "mimetype": "text/x-python",
   "name": "python",
   "nbconvert_exporter": "python",
   "pygments_lexer": "ipython3",
   "version": "3.7.4"
  }
 },
 "nbformat": 4,
 "nbformat_minor": 2
}
