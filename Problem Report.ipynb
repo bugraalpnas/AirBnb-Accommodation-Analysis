{
 "cells": [
  {
   "cell_type": "markdown",
   "metadata": {},
   "source": [
    "# Introduction"
   ]
  },
  {
   "cell_type": "markdown",
   "metadata": {},
   "source": [
    "Accommodation at the places we visited was an important problem in our lives before the pandemic. I hope it continues to be a problem after that. Let's assume everything will be fine for now and imagine again looking for places to stay on our trips.\n",
    "\n",
    "Hotels, hostels, motels, hostels ... Travelers have had many accommodation options for many years. But AirBnb, founded in 2008, further increased the options. Now, when you go to another city or another country, you can find the comfort of your home, even if not as much as your home. Because someone designs and presents their homes for your comfort.\n",
    "\n",
    "<img src=\"https://i1.wp.com/yerimdeduramiyorum.com/wp-content/uploads/2020/06/airbnb-nedir-yerimde-duramiyorum.png\" alt=\"image info\" />"
   ]
  },
  {
   "cell_type": "markdown",
   "metadata": {},
   "source": [
    "* Over 150 million users worldwide\n",
    "* 6 guests check into an Airbnb listing every second\n",
    "* There have been over half a billion Airbnb stays since the company started\n",
    "* There are over 650,000 hosts worldwide\n",
    "* There are over 7 million listings worldwide in over 220 countries and regions\n",
    "* As of January 2020, there are over 100,000 cities with Airbnb listings\n",
    "* In December 2019, 10.4 million guests stayed in an Airbnb for the holidays:\n",
    "* 2,574 stayed in castles, 1031 stayed in treehouses, and 121 in windmills\n",
    "* On any given night, 2 million people are staying in Airbnb rentals across the world\n",
    "* Airbnb’s value worldwide is 38 billion dollars.\n",
    "* Airbnb’s main website saw 91 million visits in January 2020 with 50% of traffic through mobile devices\n",
    "* Airbnb’s yearly revenue in 2018 was 3.6 billion dollars.\n",
    "* Airbnb’s yearly revenue in 2017 was 2.6 billion dollars.\n",
    "\n",
    "source: https://ipropertymanagement.com/research/airbnb-statistics\n",
    "\n",
    "<img src=\"https://moneyminiblog.com/wp-content/uploads/2019/01/airbnb-more-locations-than-hotel.jpg\" alt=\"image info\" />"
   ]
  },
  {
   "cell_type": "markdown",
   "metadata": {},
   "source": [
    "# Problem"
   ]
  },
  {
   "cell_type": "markdown",
   "metadata": {},
   "source": [
    "Suppose we want to go on vacation.\n",
    "\n",
    "Everything is ready but one.\n",
    "\n",
    "Where will we stay during our vacation?\n",
    "\n",
    "No problem. We open laptop, go to booking.com and search hotels. Anyhow there are so many options.\n",
    "\n",
    "Looking, looking, looking....\n",
    "\n",
    "One looks dirty. Pass.\n",
    "\n",
    "Other one is so expensive. Sad.\n",
    "\n",
    "Maybe this one?\n",
    "No, it is outside of the town.\n",
    "\n",
    "Suddenly, AirBnb comes to your mind. \n",
    "\n",
    "Most of their options are so great. But how do we make a decision? We have too many criteria.\n",
    "* Price\n",
    "* Hygiene\n",
    "* Location\n",
    "* Venues around home\n",
    "* Comfort\n",
    "\n",
    "etc. etc. etc.\n",
    "\n",
    "\n",
    "## How do we make a decision?"
   ]
  }
 ],
 "metadata": {
  "kernelspec": {
   "display_name": "Python 3",
   "language": "python",
   "name": "python3"
  },
  "language_info": {
   "codemirror_mode": {
    "name": "ipython",
    "version": 3
   },
   "file_extension": ".py",
   "mimetype": "text/x-python",
   "name": "python",
   "nbconvert_exporter": "python",
   "pygments_lexer": "ipython3",
   "version": "3.7.4"
  }
 },
 "nbformat": 4,
 "nbformat_minor": 2
}
